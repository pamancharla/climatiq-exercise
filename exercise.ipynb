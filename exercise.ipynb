{
 "cells": [
  {
   "cell_type": "markdown",
   "metadata": {},
   "source": [
    "There are two files attached containing the following data:\n",
    "\n",
    "- input-data.csv: details of 50 items from some user input.\n",
    "- activities.csv: a list of activities representing emission factors. Each activity is composed by a name (“activity_name” column), and is grouped by a set of categories (“category” column).\n",
    "\n",
    "Note: All additional information has been striped for simplicity, but for sake of completeness: these activities contain metadata about their respective emissions.\n",
    "\n",
    "Task: You are tasked with developing a system that finds the most relevant match for each of the input data strings from input-data.csv to activity names in activities.csv.\n",
    "\n",
    "Deliverable: Submit your solution as a Python script or a Jupyter notebook, including the following requirements:\n",
    "- Build a prototype model, including data processing, labeling and evaluation.\n",
    "- For each unstructured input record, return the best-matched activity (name and category) along with a score."
   ]
  },
  {
   "cell_type": "code",
   "execution_count": null,
   "metadata": {},
   "outputs": [],
   "source": []
  }
 ],
 "metadata": {
  "kernelspec": {
   "display_name": "climatiq-env",
   "language": "python",
   "name": "python3"
  },
  "language_info": {
   "name": "python",
   "version": "3.11.5"
  }
 },
 "nbformat": 4,
 "nbformat_minor": 2
}
